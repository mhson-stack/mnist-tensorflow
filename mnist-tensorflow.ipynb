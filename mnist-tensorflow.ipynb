{
 "cells": [
  {
   "cell_type": "code",
   "execution_count": 5,
   "metadata": {},
   "outputs": [],
   "source": [
    "import pandas as pd\n",
    "import numpy as np\n",
    "import tensorflow as tf\n",
    "\n",
    "mnist = tf.keras.datasets.mnist"
   ]
  },
  {
   "cell_type": "code",
   "execution_count": 13,
   "metadata": {},
   "outputs": [
    {
     "ename": "ValueError",
     "evalue": "not enough values to unpack (expected 4, got 2)",
     "output_type": "error",
     "traceback": [
      "\u001b[0;31m---------------------------------------------------------------------------\u001b[0m",
      "\u001b[0;31mValueError\u001b[0m                                Traceback (most recent call last)",
      "\u001b[1;32m/Users/prozapple/무현/Git/mnist-tensorflow/mnist-tensorflow.ipynb Cell 2\u001b[0m in \u001b[0;36m<cell line: 1>\u001b[0;34m()\u001b[0m\n\u001b[0;32m----> <a href='vscode-notebook-cell:/Users/prozapple/%E1%84%86%E1%85%AE%E1%84%92%E1%85%A7%E1%86%AB/Git/mnist-tensorflow/mnist-tensorflow.ipynb#W2sZmlsZQ%3D%3D?line=0'>1</a>\u001b[0m X_train, y_train, X_test, y_test \u001b[39m=\u001b[39m mnist\u001b[39m.\u001b[39mload_data()\n\u001b[1;32m      <a href='vscode-notebook-cell:/Users/prozapple/%E1%84%86%E1%85%AE%E1%84%92%E1%85%A7%E1%86%AB/Git/mnist-tensorflow/mnist-tensorflow.ipynb#W2sZmlsZQ%3D%3D?line=1'>2</a>\u001b[0m X_train, X_test \u001b[39m=\u001b[39m X_train \u001b[39m/\u001b[39m \u001b[39m255.0\u001b[39m, X_test \u001b[39m/\u001b[39m \u001b[39m255.0\u001b[39m\n",
      "\u001b[0;31mValueError\u001b[0m: not enough values to unpack (expected 4, got 2)"
     ]
    }
   ],
   "source": [
    "(X_train, y_train), (X_test, y_test) = mnist.load_data()\n",
    "X_train, X_test = X_train / 255.0, X_test / 255.0"
   ]
  },
  {
   "cell_type": "code",
   "execution_count": 12,
   "metadata": {},
   "outputs": [
    {
     "data": {
      "text/plain": [
       "(60000, 28, 28)"
      ]
     },
     "execution_count": 12,
     "metadata": {},
     "output_type": "execute_result"
    }
   ],
   "source": [
    "X_train.shape"
   ]
  },
  {
   "cell_type": "code",
   "execution_count": null,
   "metadata": {},
   "outputs": [],
   "source": []
  }
 ],
 "metadata": {
  "kernelspec": {
   "display_name": "Python 3.10.3 64-bit ('3.10.3')",
   "language": "python",
   "name": "python3"
  },
  "language_info": {
   "codemirror_mode": {
    "name": "ipython",
    "version": 3
   },
   "file_extension": ".py",
   "mimetype": "text/x-python",
   "name": "python",
   "nbconvert_exporter": "python",
   "pygments_lexer": "ipython3",
   "version": "3.10.3"
  },
  "orig_nbformat": 4,
  "vscode": {
   "interpreter": {
    "hash": "db89c94554c06de4c6c4bca009dcc2796b9c443b2926e7b6d6228f1d37c46855"
   }
  }
 },
 "nbformat": 4,
 "nbformat_minor": 2
}
